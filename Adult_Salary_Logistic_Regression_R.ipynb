{
 "cells": [
  {
   "cell_type": "markdown",
   "metadata": {},
   "source": [
    "## Adult Salary Project"
   ]
  },
  {
   "cell_type": "markdown",
   "metadata": {},
   "source": [
    "### Read and Understand the data"
   ]
  },
  {
   "cell_type": "code",
   "execution_count": 1,
   "metadata": {},
   "outputs": [
    {
     "data": {
      "text/html": [
       "<table>\n",
       "<caption>A data.frame: 6 × 16</caption>\n",
       "<thead>\n",
       "\t<tr><th></th><th scope=col>X</th><th scope=col>age</th><th scope=col>type_employer</th><th scope=col>fnlwgt</th><th scope=col>education</th><th scope=col>education_num</th><th scope=col>marital</th><th scope=col>occupation</th><th scope=col>relationship</th><th scope=col>race</th><th scope=col>sex</th><th scope=col>capital_gain</th><th scope=col>capital_loss</th><th scope=col>hr_per_week</th><th scope=col>country</th><th scope=col>income</th></tr>\n",
       "\t<tr><th></th><th scope=col>&lt;int&gt;</th><th scope=col>&lt;int&gt;</th><th scope=col>&lt;chr&gt;</th><th scope=col>&lt;int&gt;</th><th scope=col>&lt;chr&gt;</th><th scope=col>&lt;int&gt;</th><th scope=col>&lt;chr&gt;</th><th scope=col>&lt;chr&gt;</th><th scope=col>&lt;chr&gt;</th><th scope=col>&lt;chr&gt;</th><th scope=col>&lt;chr&gt;</th><th scope=col>&lt;int&gt;</th><th scope=col>&lt;int&gt;</th><th scope=col>&lt;int&gt;</th><th scope=col>&lt;chr&gt;</th><th scope=col>&lt;chr&gt;</th></tr>\n",
       "</thead>\n",
       "<tbody>\n",
       "\t<tr><th scope=row>1</th><td>1</td><td>39</td><td><span style=white-space:pre-wrap>State-gov       </span></td><td> 77516</td><td>Bachelors</td><td>13</td><td><span style=white-space:pre-wrap>Never-married     </span></td><td><span style=white-space:pre-wrap>Adm-clerical     </span></td><td>Not-in-family</td><td>White</td><td><span style=white-space:pre-wrap>Male  </span></td><td>2174</td><td>0</td><td>40</td><td>United-States</td><td>&lt;=50K</td></tr>\n",
       "\t<tr><th scope=row>2</th><td>2</td><td>50</td><td>Self-emp-not-inc</td><td> 83311</td><td>Bachelors</td><td>13</td><td>Married-civ-spouse</td><td><span style=white-space:pre-wrap>Exec-managerial  </span></td><td><span style=white-space:pre-wrap>Husband      </span></td><td>White</td><td><span style=white-space:pre-wrap>Male  </span></td><td><span style=white-space:pre-wrap>   0</span></td><td>0</td><td>13</td><td>United-States</td><td>&lt;=50K</td></tr>\n",
       "\t<tr><th scope=row>3</th><td>3</td><td>38</td><td><span style=white-space:pre-wrap>Private         </span></td><td>215646</td><td><span style=white-space:pre-wrap>HS-grad  </span></td><td> 9</td><td><span style=white-space:pre-wrap>Divorced          </span></td><td>Handlers-cleaners</td><td>Not-in-family</td><td>White</td><td><span style=white-space:pre-wrap>Male  </span></td><td><span style=white-space:pre-wrap>   0</span></td><td>0</td><td>40</td><td>United-States</td><td>&lt;=50K</td></tr>\n",
       "\t<tr><th scope=row>4</th><td>4</td><td>53</td><td><span style=white-space:pre-wrap>Private         </span></td><td>234721</td><td><span style=white-space:pre-wrap>11th     </span></td><td> 7</td><td>Married-civ-spouse</td><td>Handlers-cleaners</td><td><span style=white-space:pre-wrap>Husband      </span></td><td>Black</td><td><span style=white-space:pre-wrap>Male  </span></td><td><span style=white-space:pre-wrap>   0</span></td><td>0</td><td>40</td><td>United-States</td><td>&lt;=50K</td></tr>\n",
       "\t<tr><th scope=row>5</th><td>5</td><td>28</td><td><span style=white-space:pre-wrap>Private         </span></td><td>338409</td><td>Bachelors</td><td>13</td><td>Married-civ-spouse</td><td><span style=white-space:pre-wrap>Prof-specialty   </span></td><td><span style=white-space:pre-wrap>Wife         </span></td><td>Black</td><td>Female</td><td><span style=white-space:pre-wrap>   0</span></td><td>0</td><td>40</td><td><span style=white-space:pre-wrap>Cuba         </span></td><td>&lt;=50K</td></tr>\n",
       "\t<tr><th scope=row>6</th><td>6</td><td>37</td><td><span style=white-space:pre-wrap>Private         </span></td><td>284582</td><td><span style=white-space:pre-wrap>Masters  </span></td><td>14</td><td>Married-civ-spouse</td><td><span style=white-space:pre-wrap>Exec-managerial  </span></td><td><span style=white-space:pre-wrap>Wife         </span></td><td>White</td><td>Female</td><td><span style=white-space:pre-wrap>   0</span></td><td>0</td><td>40</td><td>United-States</td><td>&lt;=50K</td></tr>\n",
       "</tbody>\n",
       "</table>\n"
      ],
      "text/latex": [
       "A data.frame: 6 × 16\n",
       "\\begin{tabular}{r|llllllllllllllll}\n",
       "  & X & age & type\\_employer & fnlwgt & education & education\\_num & marital & occupation & relationship & race & sex & capital\\_gain & capital\\_loss & hr\\_per\\_week & country & income\\\\\n",
       "  & <int> & <int> & <chr> & <int> & <chr> & <int> & <chr> & <chr> & <chr> & <chr> & <chr> & <int> & <int> & <int> & <chr> & <chr>\\\\\n",
       "\\hline\n",
       "\t1 & 1 & 39 & State-gov        &  77516 & Bachelors & 13 & Never-married      & Adm-clerical      & Not-in-family & White & Male   & 2174 & 0 & 40 & United-States & <=50K\\\\\n",
       "\t2 & 2 & 50 & Self-emp-not-inc &  83311 & Bachelors & 13 & Married-civ-spouse & Exec-managerial   & Husband       & White & Male   &    0 & 0 & 13 & United-States & <=50K\\\\\n",
       "\t3 & 3 & 38 & Private          & 215646 & HS-grad   &  9 & Divorced           & Handlers-cleaners & Not-in-family & White & Male   &    0 & 0 & 40 & United-States & <=50K\\\\\n",
       "\t4 & 4 & 53 & Private          & 234721 & 11th      &  7 & Married-civ-spouse & Handlers-cleaners & Husband       & Black & Male   &    0 & 0 & 40 & United-States & <=50K\\\\\n",
       "\t5 & 5 & 28 & Private          & 338409 & Bachelors & 13 & Married-civ-spouse & Prof-specialty    & Wife          & Black & Female &    0 & 0 & 40 & Cuba          & <=50K\\\\\n",
       "\t6 & 6 & 37 & Private          & 284582 & Masters   & 14 & Married-civ-spouse & Exec-managerial   & Wife          & White & Female &    0 & 0 & 40 & United-States & <=50K\\\\\n",
       "\\end{tabular}\n"
      ],
      "text/markdown": [
       "\n",
       "A data.frame: 6 × 16\n",
       "\n",
       "| <!--/--> | X &lt;int&gt; | age &lt;int&gt; | type_employer &lt;chr&gt; | fnlwgt &lt;int&gt; | education &lt;chr&gt; | education_num &lt;int&gt; | marital &lt;chr&gt; | occupation &lt;chr&gt; | relationship &lt;chr&gt; | race &lt;chr&gt; | sex &lt;chr&gt; | capital_gain &lt;int&gt; | capital_loss &lt;int&gt; | hr_per_week &lt;int&gt; | country &lt;chr&gt; | income &lt;chr&gt; |\n",
       "|---|---|---|---|---|---|---|---|---|---|---|---|---|---|---|---|---|\n",
       "| 1 | 1 | 39 | State-gov        |  77516 | Bachelors | 13 | Never-married      | Adm-clerical      | Not-in-family | White | Male   | 2174 | 0 | 40 | United-States | &lt;=50K |\n",
       "| 2 | 2 | 50 | Self-emp-not-inc |  83311 | Bachelors | 13 | Married-civ-spouse | Exec-managerial   | Husband       | White | Male   |    0 | 0 | 13 | United-States | &lt;=50K |\n",
       "| 3 | 3 | 38 | Private          | 215646 | HS-grad   |  9 | Divorced           | Handlers-cleaners | Not-in-family | White | Male   |    0 | 0 | 40 | United-States | &lt;=50K |\n",
       "| 4 | 4 | 53 | Private          | 234721 | 11th      |  7 | Married-civ-spouse | Handlers-cleaners | Husband       | Black | Male   |    0 | 0 | 40 | United-States | &lt;=50K |\n",
       "| 5 | 5 | 28 | Private          | 338409 | Bachelors | 13 | Married-civ-spouse | Prof-specialty    | Wife          | Black | Female |    0 | 0 | 40 | Cuba          | &lt;=50K |\n",
       "| 6 | 6 | 37 | Private          | 284582 | Masters   | 14 | Married-civ-spouse | Exec-managerial   | Wife          | White | Female |    0 | 0 | 40 | United-States | &lt;=50K |\n",
       "\n"
      ],
      "text/plain": [
       "  X age type_employer    fnlwgt education education_num marital           \n",
       "1 1 39  State-gov         77516 Bachelors 13            Never-married     \n",
       "2 2 50  Self-emp-not-inc  83311 Bachelors 13            Married-civ-spouse\n",
       "3 3 38  Private          215646 HS-grad    9            Divorced          \n",
       "4 4 53  Private          234721 11th       7            Married-civ-spouse\n",
       "5 5 28  Private          338409 Bachelors 13            Married-civ-spouse\n",
       "6 6 37  Private          284582 Masters   14            Married-civ-spouse\n",
       "  occupation        relationship  race  sex    capital_gain capital_loss\n",
       "1 Adm-clerical      Not-in-family White Male   2174         0           \n",
       "2 Exec-managerial   Husband       White Male      0         0           \n",
       "3 Handlers-cleaners Not-in-family White Male      0         0           \n",
       "4 Handlers-cleaners Husband       Black Male      0         0           \n",
       "5 Prof-specialty    Wife          Black Female    0         0           \n",
       "6 Exec-managerial   Wife          White Female    0         0           \n",
       "  hr_per_week country       income\n",
       "1 40          United-States <=50K \n",
       "2 13          United-States <=50K \n",
       "3 40          United-States <=50K \n",
       "4 40          United-States <=50K \n",
       "5 40          Cuba          <=50K \n",
       "6 40          United-States <=50K "
      ]
     },
     "metadata": {},
     "output_type": "display_data"
    }
   ],
   "source": [
    "adult <- read.csv('adult_sal.csv')\n",
    "head(adult)"
   ]
  },
  {
   "cell_type": "code",
   "execution_count": 2,
   "metadata": {},
   "outputs": [
    {
     "name": "stderr",
     "output_type": "stream",
     "text": [
      "\n",
      "Attaching package: 'dplyr'\n",
      "\n",
      "\n",
      "The following objects are masked from 'package:stats':\n",
      "\n",
      "    filter, lag\n",
      "\n",
      "\n",
      "The following objects are masked from 'package:base':\n",
      "\n",
      "    intersect, setdiff, setequal, union\n",
      "\n",
      "\n"
     ]
    }
   ],
   "source": [
    "library(dplyr)"
   ]
  },
  {
   "cell_type": "code",
   "execution_count": 3,
   "metadata": {},
   "outputs": [],
   "source": [
    "adult <- select(adult, -X)"
   ]
  },
  {
   "cell_type": "code",
   "execution_count": 4,
   "metadata": {},
   "outputs": [
    {
     "name": "stdout",
     "output_type": "stream",
     "text": [
      "'data.frame':\t32561 obs. of  15 variables:\n",
      " $ age          : int  39 50 38 53 28 37 49 52 31 42 ...\n",
      " $ type_employer: chr  \"State-gov\" \"Self-emp-not-inc\" \"Private\" \"Private\" ...\n",
      " $ fnlwgt       : int  77516 83311 215646 234721 338409 284582 160187 209642 45781 159449 ...\n",
      " $ education    : chr  \"Bachelors\" \"Bachelors\" \"HS-grad\" \"11th\" ...\n",
      " $ education_num: int  13 13 9 7 13 14 5 9 14 13 ...\n",
      " $ marital      : chr  \"Never-married\" \"Married-civ-spouse\" \"Divorced\" \"Married-civ-spouse\" ...\n",
      " $ occupation   : chr  \"Adm-clerical\" \"Exec-managerial\" \"Handlers-cleaners\" \"Handlers-cleaners\" ...\n",
      " $ relationship : chr  \"Not-in-family\" \"Husband\" \"Not-in-family\" \"Husband\" ...\n",
      " $ race         : chr  \"White\" \"White\" \"White\" \"Black\" ...\n",
      " $ sex          : chr  \"Male\" \"Male\" \"Male\" \"Male\" ...\n",
      " $ capital_gain : int  2174 0 0 0 0 0 0 0 14084 5178 ...\n",
      " $ capital_loss : int  0 0 0 0 0 0 0 0 0 0 ...\n",
      " $ hr_per_week  : int  40 13 40 40 40 40 16 45 50 40 ...\n",
      " $ country      : chr  \"United-States\" \"United-States\" \"United-States\" \"United-States\" ...\n",
      " $ income       : chr  \"<=50K\" \"<=50K\" \"<=50K\" \"<=50K\" ...\n"
     ]
    }
   ],
   "source": [
    "str(adult)"
   ]
  },
  {
   "cell_type": "code",
   "execution_count": 5,
   "metadata": {},
   "outputs": [
    {
     "data": {
      "text/plain": [
       "      age        type_employer          fnlwgt         education        \n",
       " Min.   :17.00   Length:32561       Min.   :  12285   Length:32561      \n",
       " 1st Qu.:28.00   Class :character   1st Qu.: 117827   Class :character  \n",
       " Median :37.00   Mode  :character   Median : 178356   Mode  :character  \n",
       " Mean   :38.58                      Mean   : 189778                     \n",
       " 3rd Qu.:48.00                      3rd Qu.: 237051                     \n",
       " Max.   :90.00                      Max.   :1484705                     \n",
       " education_num     marital           occupation        relationship      \n",
       " Min.   : 1.00   Length:32561       Length:32561       Length:32561      \n",
       " 1st Qu.: 9.00   Class :character   Class :character   Class :character  \n",
       " Median :10.00   Mode  :character   Mode  :character   Mode  :character  \n",
       " Mean   :10.08                                                           \n",
       " 3rd Qu.:12.00                                                           \n",
       " Max.   :16.00                                                           \n",
       "     race               sex             capital_gain    capital_loss   \n",
       " Length:32561       Length:32561       Min.   :    0   Min.   :   0.0  \n",
       " Class :character   Class :character   1st Qu.:    0   1st Qu.:   0.0  \n",
       " Mode  :character   Mode  :character   Median :    0   Median :   0.0  \n",
       "                                       Mean   : 1078   Mean   :  87.3  \n",
       "                                       3rd Qu.:    0   3rd Qu.:   0.0  \n",
       "                                       Max.   :99999   Max.   :4356.0  \n",
       "  hr_per_week      country             income         \n",
       " Min.   : 1.00   Length:32561       Length:32561      \n",
       " 1st Qu.:40.00   Class :character   Class :character  \n",
       " Median :40.00   Mode  :character   Mode  :character  \n",
       " Mean   :40.44                                        \n",
       " 3rd Qu.:45.00                                        \n",
       " Max.   :99.00                                        "
      ]
     },
     "metadata": {},
     "output_type": "display_data"
    }
   ],
   "source": [
    "summary(adult)"
   ]
  },
  {
   "cell_type": "markdown",
   "metadata": {},
   "source": [
    "### Data Cleaning & Feature Engineering"
   ]
  },
  {
   "cell_type": "markdown",
   "metadata": {},
   "source": [
    "#### type_employer"
   ]
  },
  {
   "cell_type": "code",
   "execution_count": 6,
   "metadata": {},
   "outputs": [
    {
     "data": {
      "text/plain": [
       "\n",
       "               ?      Federal-gov        Local-gov     Never-worked \n",
       "            1836              960             2093                7 \n",
       "         Private     Self-emp-inc Self-emp-not-inc        State-gov \n",
       "           22696             1116             2541             1298 \n",
       "     Without-pay \n",
       "              14 "
      ]
     },
     "metadata": {},
     "output_type": "display_data"
    }
   ],
   "source": [
    "table(adult$type_employer)"
   ]
  },
  {
   "cell_type": "code",
   "execution_count": 7,
   "metadata": {},
   "outputs": [
    {
     "data": {
      "text/plain": [
       "\n",
       "          ? Federal-gov     Private    self-emp      SL-gov  Unemployed \n",
       "       1836         960       22696        3657        3391          21 "
      ]
     },
     "metadata": {},
     "output_type": "display_data"
    }
   ],
   "source": [
    "group_emp <- function(job){\n",
    "    if (job=='Never-worked' | job=='Without-pay'){\n",
    "        return('Unemployed')\n",
    "    }else if(job=='Local-gov' | job=='State-gov'){\n",
    "        return('SL-gov')\n",
    "    }else if(job=='Self-emp-inc' | job=='Self-emp-not-inc'){\n",
    "        return('self-emp')\n",
    "    }else{\n",
    "        return(job)\n",
    "    }\n",
    "}\n",
    "\n",
    "adult$type_employer <- sapply(adult$type_employer, group_emp)\n",
    "    \n",
    "table(adult$type_employer)"
   ]
  },
  {
   "cell_type": "markdown",
   "metadata": {},
   "source": [
    "#### marital"
   ]
  },
  {
   "cell_type": "code",
   "execution_count": 8,
   "metadata": {},
   "outputs": [
    {
     "data": {
      "text/plain": [
       "\n",
       "             Divorced     Married-AF-spouse    Married-civ-spouse \n",
       "                 4443                    23                 14976 \n",
       "Married-spouse-absent         Never-married             Separated \n",
       "                  418                 10683                  1025 \n",
       "              Widowed \n",
       "                  993 "
      ]
     },
     "metadata": {},
     "output_type": "display_data"
    }
   ],
   "source": [
    "table(adult$marital)"
   ]
  },
  {
   "cell_type": "code",
   "execution_count": 9,
   "metadata": {},
   "outputs": [
    {
     "data": {
      "text/plain": [
       "\n",
       "      Married Never-married   Not-Married \n",
       "        15417         10683          6461 "
      ]
     },
     "metadata": {},
     "output_type": "display_data"
    }
   ],
   "source": [
    "group_mar <- function(mar){\n",
    "    if (mar=='Separated' | mar=='Divorced' | mar=='Widowed'){\n",
    "        return('Not-Married')\n",
    "    }else if(mar=='Never-married'){\n",
    "        return(mar)\n",
    "    }else{\n",
    "        return('Married')\n",
    "    }\n",
    "}\n",
    "\n",
    "adult$marital <- sapply(adult$marital, group_mar)\n",
    "\n",
    "table(adult$marital)"
   ]
  },
  {
   "cell_type": "markdown",
   "metadata": {},
   "source": [
    "#### country"
   ]
  },
  {
   "cell_type": "code",
   "execution_count": 10,
   "metadata": {},
   "outputs": [
    {
     "data": {
      "text/plain": [
       "\n",
       "                         ?                   Cambodia \n",
       "                       583                         19 \n",
       "                    Canada                      China \n",
       "                       121                         75 \n",
       "                  Columbia                       Cuba \n",
       "                        59                         95 \n",
       "        Dominican-Republic                    Ecuador \n",
       "                        70                         28 \n",
       "               El-Salvador                    England \n",
       "                       106                         90 \n",
       "                    France                    Germany \n",
       "                        29                        137 \n",
       "                    Greece                  Guatemala \n",
       "                        29                         64 \n",
       "                     Haiti         Holand-Netherlands \n",
       "                        44                          1 \n",
       "                  Honduras                       Hong \n",
       "                        13                         20 \n",
       "                   Hungary                      India \n",
       "                        13                        100 \n",
       "                      Iran                    Ireland \n",
       "                        43                         24 \n",
       "                     Italy                    Jamaica \n",
       "                        73                         81 \n",
       "                     Japan                       Laos \n",
       "                        62                         18 \n",
       "                    Mexico                  Nicaragua \n",
       "                       643                         34 \n",
       "Outlying-US(Guam-USVI-etc)                       Peru \n",
       "                        14                         31 \n",
       "               Philippines                     Poland \n",
       "                       198                         60 \n",
       "                  Portugal                Puerto-Rico \n",
       "                        37                        114 \n",
       "                  Scotland                      South \n",
       "                        12                         80 \n",
       "                    Taiwan                   Thailand \n",
       "                        51                         18 \n",
       "           Trinadad&Tobago              United-States \n",
       "                        19                      29170 \n",
       "                   Vietnam                 Yugoslavia \n",
       "                        67                         16 "
      ]
     },
     "metadata": {},
     "output_type": "display_data"
    }
   ],
   "source": [
    "table(adult$country)"
   ]
  },
  {
   "cell_type": "code",
   "execution_count": 11,
   "metadata": {},
   "outputs": [
    {
     "data": {
      "text/plain": [
       "\n",
       "               Asia              Europe Latin.South.America       North.America \n",
       "                671                 521                1301               29405 \n",
       "              Other \n",
       "                663 "
      ]
     },
     "metadata": {},
     "output_type": "display_data"
    }
   ],
   "source": [
    "Asia <- c('China','Hong','India','Iran','Cambodia','Japan','Laos','Philippines','Vietnam','Taiwan','Thailand')\n",
    "North.America <- c('Canada','United-States','Puerto-Rico')\n",
    "Europe <- c('England','France','Germany','Greece','Holand-Netherlands','Hungary','Ireland','Italy','Poland','Portugal','Scotland','Yugoslavia')\n",
    "Latin.South.America <- c('Columbia','Cuba','Dominican-Republic','Ecuador','El-Salvador','Guatemala','Haiti','Honduras','Mexico','Nicaragua','Outlying-US(Guam-USVI-etc)','Peru','Jamaica','Trinadad&Tobago')\n",
    "Other <- c('South')\n",
    "\n",
    "group_cty <- function(cty){\n",
    "    if (cty %in% Asia){\n",
    "        return('Asia')\n",
    "    }else if(cty %in% Europe){\n",
    "        return('Europe')\n",
    "    }else if(cty %in% North.America){\n",
    "        return('North.America')\n",
    "    }else if(cty %in% Latin.South.America){\n",
    "        return('Latin.South.America')\n",
    "    }else{\n",
    "        return('Other')\n",
    "    }\n",
    "}\n",
    "        \n",
    "adult$country <- sapply(adult$country, group_cty)\n",
    "    \n",
    "table(adult$country)"
   ]
  },
  {
   "cell_type": "code",
   "execution_count": 12,
   "metadata": {},
   "outputs": [
    {
     "name": "stdout",
     "output_type": "stream",
     "text": [
      "'data.frame':\t32561 obs. of  15 variables:\n",
      " $ age          : int  39 50 38 53 28 37 49 52 31 42 ...\n",
      " $ type_employer: chr  \"SL-gov\" \"self-emp\" \"Private\" \"Private\" ...\n",
      " $ fnlwgt       : int  77516 83311 215646 234721 338409 284582 160187 209642 45781 159449 ...\n",
      " $ education    : chr  \"Bachelors\" \"Bachelors\" \"HS-grad\" \"11th\" ...\n",
      " $ education_num: int  13 13 9 7 13 14 5 9 14 13 ...\n",
      " $ marital      : chr  \"Never-married\" \"Married\" \"Not-Married\" \"Married\" ...\n",
      " $ occupation   : chr  \"Adm-clerical\" \"Exec-managerial\" \"Handlers-cleaners\" \"Handlers-cleaners\" ...\n",
      " $ relationship : chr  \"Not-in-family\" \"Husband\" \"Not-in-family\" \"Husband\" ...\n",
      " $ race         : chr  \"White\" \"White\" \"White\" \"Black\" ...\n",
      " $ sex          : chr  \"Male\" \"Male\" \"Male\" \"Male\" ...\n",
      " $ capital_gain : int  2174 0 0 0 0 0 0 0 14084 5178 ...\n",
      " $ capital_loss : int  0 0 0 0 0 0 0 0 0 0 ...\n",
      " $ hr_per_week  : int  40 13 40 40 40 40 16 45 50 40 ...\n",
      " $ country      : chr  \"North.America\" \"North.America\" \"North.America\" \"North.America\" ...\n",
      " $ income       : chr  \"<=50K\" \"<=50K\" \"<=50K\" \"<=50K\" ...\n"
     ]
    }
   ],
   "source": [
    "str(adult)"
   ]
  },
  {
   "cell_type": "markdown",
   "metadata": {},
   "source": [
    "#### education"
   ]
  },
  {
   "cell_type": "code",
   "execution_count": 13,
   "metadata": {},
   "outputs": [
    {
     "data": {
      "text/plain": [
       "\n",
       "        10th         11th         12th      1st-4th      5th-6th      7th-8th \n",
       "         933         1175          433          168          333          646 \n",
       "         9th   Assoc-acdm    Assoc-voc    Bachelors    Doctorate      HS-grad \n",
       "         514         1067         1382         5355          413        10501 \n",
       "     Masters    Preschool  Prof-school Some-college \n",
       "        1723           51          576         7291 "
      ]
     },
     "metadata": {},
     "output_type": "display_data"
    }
   ],
   "source": [
    "table(adult$education)"
   ]
  },
  {
   "cell_type": "code",
   "execution_count": 14,
   "metadata": {},
   "outputs": [
    {
     "data": {
      "text/plain": [
       "\n",
       "   Bachelors    Doctorate      HS-grad      Masters  Not-HS-Grad Post-HS-Grad \n",
       "        5355          413        10501         1723         4253        10316 "
      ]
     },
     "metadata": {},
     "output_type": "display_data"
    }
   ],
   "source": [
    "group_edu <- function(edu){\n",
    "    if (edu=='12th' | edu=='11th' | edu=='10th' | edu=='9th' | edu=='7th-8th' | edu=='5th-6th' | edu=='1st-4th' | edu=='Preschool'){\n",
    "        return('Not-HS-Grad')\n",
    "    }else if(edu=='Assoc-acdm' | edu=='Assoc-voc' | edu=='Some-college' | edu=='Prof-school'){\n",
    "        return('Post-HS-Grad')\n",
    "    }else{\n",
    "        return(edu)\n",
    "    }\n",
    "}\n",
    "\n",
    "adult$education <- sapply(adult$education, group_edu)\n",
    "\n",
    "table(adult$education)"
   ]
  },
  {
   "cell_type": "markdown",
   "metadata": {},
   "source": [
    "#### occupation"
   ]
  },
  {
   "cell_type": "code",
   "execution_count": 15,
   "metadata": {},
   "outputs": [
    {
     "data": {
      "text/plain": [
       "\n",
       "                ?      Adm-clerical      Armed-Forces      Craft-repair \n",
       "             1843              3770                 9              4099 \n",
       "  Exec-managerial   Farming-fishing Handlers-cleaners Machine-op-inspct \n",
       "             4066               994              1370              2002 \n",
       "    Other-service   Priv-house-serv    Prof-specialty   Protective-serv \n",
       "             3295               149              4140               649 \n",
       "            Sales      Tech-support  Transport-moving \n",
       "             3650               928              1597 "
      ]
     },
     "metadata": {},
     "output_type": "display_data"
    }
   ],
   "source": [
    "table(adult$occupation)"
   ]
  },
  {
   "cell_type": "code",
   "execution_count": 16,
   "metadata": {},
   "outputs": [
    {
     "data": {
      "text/plain": [
       "\n",
       "               ?     Adm-clerical  Exec-managerial  Farming-fishing \n",
       "            1843             3770             4066              994 \n",
       "   maintain-serv    Other-service  Priv-house-serv   Prof-specialty \n",
       "            7471             3295              149             4140 \n",
       "    protect-serv            Sales     Tech-support Transport-moving \n",
       "             658             3650              928             1597 "
      ]
     },
     "metadata": {},
     "output_type": "display_data"
    }
   ],
   "source": [
    "group_occ <- function(occ){\n",
    "    if(occ=='Handlers-cleaners' | occ=='Machine-op-inspct' | occ=='Craft-repair'){\n",
    "        return('maintain-serv')\n",
    "    }else if(occ=='Protective-serv' | occ=='Armed-Forces'){\n",
    "        return('protect-serv')\n",
    "    }else{\n",
    "        return(occ)\n",
    "    }\n",
    "}\n",
    "\n",
    "adult$occupation <- sapply(adult$occupation, group_occ)\n",
    "\n",
    "table(adult$occupation)"
   ]
  },
  {
   "cell_type": "markdown",
   "metadata": {},
   "source": [
    "### Dealing with Missing Values"
   ]
  },
  {
   "cell_type": "code",
   "execution_count": 17,
   "metadata": {},
   "outputs": [
    {
     "name": "stderr",
     "output_type": "stream",
     "text": [
      "Loading required package: Rcpp\n",
      "\n",
      "## \n",
      "## Amelia II: Multiple Imputation\n",
      "## (Version 1.7.6, built: 2019-11-24)\n",
      "## Copyright (C) 2005-2020 James Honaker, Gary King and Matthew Blackwell\n",
      "## Refer to http://gking.harvard.edu/amelia/ for more information\n",
      "## \n",
      "\n"
     ]
    }
   ],
   "source": [
    "library(Amelia)"
   ]
  },
  {
   "cell_type": "code",
   "execution_count": 18,
   "metadata": {},
   "outputs": [],
   "source": [
    "adult[adult=='?'] <- NA"
   ]
  },
  {
   "cell_type": "code",
   "execution_count": 19,
   "metadata": {},
   "outputs": [
    {
     "name": "stdout",
     "output_type": "stream",
     "text": [
      "'data.frame':\t32561 obs. of  15 variables:\n",
      " $ age          : int  39 50 38 53 28 37 49 52 31 42 ...\n",
      " $ type_employer: Factor w/ 5 levels \"Federal-gov\",..: 4 3 2 2 2 2 2 3 2 2 ...\n",
      " $ fnlwgt       : int  77516 83311 215646 234721 338409 284582 160187 209642 45781 159449 ...\n",
      " $ education    : Factor w/ 6 levels \"Bachelors\",\"Doctorate\",..: 1 1 3 5 1 4 5 3 4 1 ...\n",
      " $ education_num: int  13 13 9 7 13 14 5 9 14 13 ...\n",
      " $ marital      : Factor w/ 3 levels \"Married\",\"Never-married\",..: 2 1 3 1 1 1 1 1 2 1 ...\n",
      " $ occupation   : Factor w/ 11 levels \"Adm-clerical\",..: 1 2 4 4 7 2 5 2 7 2 ...\n",
      " $ relationship : Factor w/ 6 levels \"Husband\",\"Not-in-family\",..: 2 1 2 1 6 6 2 1 2 1 ...\n",
      " $ race         : Factor w/ 5 levels \"Amer-Indian-Eskimo\",..: 5 5 5 3 3 5 3 5 5 5 ...\n",
      " $ sex          : Factor w/ 2 levels \"Female\",\"Male\": 2 2 2 2 1 1 1 2 1 2 ...\n",
      " $ capital_gain : int  2174 0 0 0 0 0 0 0 14084 5178 ...\n",
      " $ capital_loss : int  0 0 0 0 0 0 0 0 0 0 ...\n",
      " $ hr_per_week  : int  40 13 40 40 40 40 16 45 50 40 ...\n",
      " $ country      : Factor w/ 5 levels \"Asia\",\"Europe\",..: 4 4 4 4 3 4 3 4 4 4 ...\n",
      " $ income       : Factor w/ 2 levels \"<=50K\",\">50K\": 1 1 1 1 1 1 1 2 2 2 ...\n"
     ]
    }
   ],
   "source": [
    "adult$type_employer <- as.factor(adult$type_employer)\n",
    "adult$education <- as.factor(adult$education)\n",
    "adult$marital <- as.factor(adult$marital)\n",
    "adult$relationship <- as.factor(adult$relationship)\n",
    "adult$race <- as.factor(adult$race)\n",
    "adult$country <- as.factor(adult$country)\n",
    "adult$income <- as.factor(adult$income)\n",
    "adult$occupation <- as.factor(adult$occupation)\n",
    "adult$sex <- as.factor(adult$sex)\n",
    "\n",
    "str(adult)"
   ]
  },
  {
   "cell_type": "code",
   "execution_count": 20,
   "metadata": {},
   "outputs": [
    {
     "data": {
      "text/plain": [
       "\n",
       "Federal-gov     Private    self-emp      SL-gov  Unemployed \n",
       "        960       22696        3657        3391          21 "
      ]
     },
     "metadata": {},
     "output_type": "display_data"
    }
   ],
   "source": [
    "table(adult$type_employer)"
   ]
  },
  {
   "cell_type": "code",
   "execution_count": 21,
   "metadata": {},
   "outputs": [
    {
     "data": {
      "image/png": "[encoded data removed]",
      "text/plain": [
       "Plot with title \"Missingness Map\""
      ]
     },
     "metadata": {
      "image/png": {
       "height": 420,
       "width": 420
      }
     },
     "output_type": "display_data"
    }
   ],
   "source": [
    "missmap(adult)"
   ]
  },
  {
   "cell_type": "code",
   "execution_count": 22,
   "metadata": {},
   "outputs": [
    {
     "data": {
      "image/png": "[encoded data removed]",
      "text/plain": [
       "Plot with title \"Missingness Map\""
      ]
     },
     "metadata": {
      "image/png": {
       "height": 420,
       "width": 420
      }
     },
     "output_type": "display_data"
    }
   ],
   "source": [
    "missmap(adult, y.at=c(1),y.labels=c(''),col=c('yellow','black'))"
   ]
  },
  {
   "cell_type": "markdown",
   "metadata": {},
   "source": [
    "#### Drop missing data"
   ]
  },
  {
   "cell_type": "code",
   "execution_count": 23,
   "metadata": {},
   "outputs": [
    {
     "data": {
      "image/png": "[encoded data removed]",
      "text/plain": [
       "Plot with title \"Missingness Map\""
      ]
     },
     "metadata": {
      "image/png": {
       "height": 420,
       "width": 420
      }
     },
     "output_type": "display_data"
    }
   ],
   "source": [
    "adult <- na.omit(adult)\n",
    "\n",
    "missmap(adult, y.at=c(1),y.labels=c(''),col=c('yellow','black'))"
   ]
  },
  {
   "cell_type": "markdown",
   "metadata": {},
   "source": [
    "### Exploratory Data Analysis"
   ]
  },
  {
   "cell_type": "code",
   "execution_count": 24,
   "metadata": {},
   "outputs": [
    {
     "name": "stdout",
     "output_type": "stream",
     "text": [
      "'data.frame':\t30718 obs. of  15 variables:\n",
      " $ age          : int  39 50 38 53 28 37 49 52 31 42 ...\n",
      " $ type_employer: Factor w/ 5 levels \"Federal-gov\",..: 4 3 2 2 2 2 2 3 2 2 ...\n",
      " $ fnlwgt       : int  77516 83311 215646 234721 338409 284582 160187 209642 45781 159449 ...\n",
      " $ education    : Factor w/ 6 levels \"Bachelors\",\"Doctorate\",..: 1 1 3 5 1 4 5 3 4 1 ...\n",
      " $ education_num: int  13 13 9 7 13 14 5 9 14 13 ...\n",
      " $ marital      : Factor w/ 3 levels \"Married\",\"Never-married\",..: 2 1 3 1 1 1 1 1 2 1 ...\n",
      " $ occupation   : Factor w/ 11 levels \"Adm-clerical\",..: 1 2 4 4 7 2 5 2 7 2 ...\n",
      " $ relationship : Factor w/ 6 levels \"Husband\",\"Not-in-family\",..: 2 1 2 1 6 6 2 1 2 1 ...\n",
      " $ race         : Factor w/ 5 levels \"Amer-Indian-Eskimo\",..: 5 5 5 3 3 5 3 5 5 5 ...\n",
      " $ sex          : Factor w/ 2 levels \"Female\",\"Male\": 2 2 2 2 1 1 1 2 1 2 ...\n",
      " $ capital_gain : int  2174 0 0 0 0 0 0 0 14084 5178 ...\n",
      " $ capital_loss : int  0 0 0 0 0 0 0 0 0 0 ...\n",
      " $ hr_per_week  : int  40 13 40 40 40 40 16 45 50 40 ...\n",
      " $ country      : Factor w/ 5 levels \"Asia\",\"Europe\",..: 4 4 4 4 3 4 3 4 4 4 ...\n",
      " $ income       : Factor w/ 2 levels \"<=50K\",\">50K\": 1 1 1 1 1 1 1 2 2 2 ...\n",
      " - attr(*, \"na.action\")= 'omit' Named int [1:1843] 28 62 70 78 107 129 150 155 161 188 ...\n",
      "  ..- attr(*, \"names\")= chr [1:1843] \"28\" \"62\" \"70\" \"78\" ...\n"
     ]
    }
   ],
   "source": [
    "str(adult)"
   ]
  },
  {
   "cell_type": "code",
   "execution_count": 25,
   "metadata": {},
   "outputs": [],
   "source": [
    "library(ggplot2)\n",
    "library(dplyr)"
   ]
  },
  {
   "cell_type": "code",
   "execution_count": 26,
   "metadata": {},
   "outputs": [
    {
     "data": {
      "image/png": "[encoded data removed]",
      "text/plain": [
       "plot without title"
      ]
     },
     "metadata": {
      "image/png": {
       "height": 420,
       "width": 420
      }
     },
     "output_type": "display_data"
    }
   ],
   "source": [
    "ggplot(adult,aes(age)) + geom_histogram(aes(fill=income),color='black',binwidth=1) + theme_bw()"
   ]
  },
  {
   "cell_type": "code",
   "execution_count": 27,
   "metadata": {},
   "outputs": [
    {
     "name": "stderr",
     "output_type": "stream",
     "text": [
      "`stat_bin()` using `bins = 30`. Pick better value with `binwidth`.\n",
      "\n"
     ]
    },
    {
     "data": {
      "image/png": "[encoded data removed]",
      "text/plain": [
       "plot without title"
      ]
     },
     "metadata": {
      "image/png": {
       "height": 420,
       "width": 420
      }
     },
     "output_type": "display_data"
    }
   ],
   "source": [
    "ggplot(adult, aes(hr_per_week)) + geom_histogram() + theme_bw()"
   ]
  },
  {
   "cell_type": "code",
   "execution_count": 28,
   "metadata": {},
   "outputs": [
    {
     "data": {
      "text/html": [
       "<table>\n",
       "<caption>A data.frame: 6 × 15</caption>\n",
       "<thead>\n",
       "\t<tr><th></th><th scope=col>age</th><th scope=col>type_employer</th><th scope=col>fnlwgt</th><th scope=col>education</th><th scope=col>education_num</th><th scope=col>marital</th><th scope=col>occupation</th><th scope=col>relationship</th><th scope=col>race</th><th scope=col>sex</th><th scope=col>capital_gain</th><th scope=col>capital_loss</th><th scope=col>hr_per_week</th><th scope=col>country</th><th scope=col>income</th></tr>\n",
       "\t<tr><th></th><th scope=col>&lt;int&gt;</th><th scope=col>&lt;fct&gt;</th><th scope=col>&lt;int&gt;</th><th scope=col>&lt;fct&gt;</th><th scope=col>&lt;int&gt;</th><th scope=col>&lt;fct&gt;</th><th scope=col>&lt;fct&gt;</th><th scope=col>&lt;fct&gt;</th><th scope=col>&lt;fct&gt;</th><th scope=col>&lt;fct&gt;</th><th scope=col>&lt;int&gt;</th><th scope=col>&lt;int&gt;</th><th scope=col>&lt;int&gt;</th><th scope=col>&lt;fct&gt;</th><th scope=col>&lt;fct&gt;</th></tr>\n",
       "</thead>\n",
       "<tbody>\n",
       "\t<tr><th scope=row>1</th><td>39</td><td><span style=white-space:pre-wrap>SL-gov  </span></td><td> 77516</td><td><span style=white-space:pre-wrap>Bachelors  </span></td><td>13</td><td>Never-married</td><td><span style=white-space:pre-wrap>Adm-clerical   </span></td><td>Not-in-family</td><td>White</td><td><span style=white-space:pre-wrap>Male  </span></td><td>2174</td><td>0</td><td>40</td><td><span style=white-space:pre-wrap>North.America      </span></td><td>&lt;=50K</td></tr>\n",
       "\t<tr><th scope=row>2</th><td>50</td><td>self-emp</td><td> 83311</td><td><span style=white-space:pre-wrap>Bachelors  </span></td><td>13</td><td><span style=white-space:pre-wrap>Married      </span></td><td>Exec-managerial</td><td><span style=white-space:pre-wrap>Husband      </span></td><td>White</td><td><span style=white-space:pre-wrap>Male  </span></td><td><span style=white-space:pre-wrap>   0</span></td><td>0</td><td>13</td><td><span style=white-space:pre-wrap>North.America      </span></td><td>&lt;=50K</td></tr>\n",
       "\t<tr><th scope=row>3</th><td>38</td><td>Private </td><td>215646</td><td><span style=white-space:pre-wrap>HS-grad    </span></td><td> 9</td><td><span style=white-space:pre-wrap>Not-Married  </span></td><td><span style=white-space:pre-wrap>maintain-serv  </span></td><td>Not-in-family</td><td>White</td><td><span style=white-space:pre-wrap>Male  </span></td><td><span style=white-space:pre-wrap>   0</span></td><td>0</td><td>40</td><td><span style=white-space:pre-wrap>North.America      </span></td><td>&lt;=50K</td></tr>\n",
       "\t<tr><th scope=row>4</th><td>53</td><td>Private </td><td>234721</td><td>Not-HS-Grad</td><td> 7</td><td><span style=white-space:pre-wrap>Married      </span></td><td><span style=white-space:pre-wrap>maintain-serv  </span></td><td><span style=white-space:pre-wrap>Husband      </span></td><td>Black</td><td><span style=white-space:pre-wrap>Male  </span></td><td><span style=white-space:pre-wrap>   0</span></td><td>0</td><td>40</td><td><span style=white-space:pre-wrap>North.America      </span></td><td>&lt;=50K</td></tr>\n",
       "\t<tr><th scope=row>5</th><td>28</td><td>Private </td><td>338409</td><td><span style=white-space:pre-wrap>Bachelors  </span></td><td>13</td><td><span style=white-space:pre-wrap>Married      </span></td><td>Prof-specialty </td><td><span style=white-space:pre-wrap>Wife         </span></td><td>Black</td><td>Female</td><td><span style=white-space:pre-wrap>   0</span></td><td>0</td><td>40</td><td>Latin.South.America</td><td>&lt;=50K</td></tr>\n",
       "\t<tr><th scope=row>6</th><td>37</td><td>Private </td><td>284582</td><td><span style=white-space:pre-wrap>Masters    </span></td><td>14</td><td><span style=white-space:pre-wrap>Married      </span></td><td>Exec-managerial</td><td><span style=white-space:pre-wrap>Wife         </span></td><td>White</td><td>Female</td><td><span style=white-space:pre-wrap>   0</span></td><td>0</td><td>40</td><td><span style=white-space:pre-wrap>North.America      </span></td><td>&lt;=50K</td></tr>\n",
       "</tbody>\n",
       "</table>\n"
      ],
      "text/latex": [
       "A data.frame: 6 × 15\n",
       "\\begin{tabular}{r|lllllllllllllll}\n",
       "  & age & type\\_employer & fnlwgt & education & education\\_num & marital & occupation & relationship & race & sex & capital\\_gain & capital\\_loss & hr\\_per\\_week & country & income\\\\\n",
       "  & <int> & <fct> & <int> & <fct> & <int> & <fct> & <fct> & <fct> & <fct> & <fct> & <int> & <int> & <int> & <fct> & <fct>\\\\\n",
       "\\hline\n",
       "\t1 & 39 & SL-gov   &  77516 & Bachelors   & 13 & Never-married & Adm-clerical    & Not-in-family & White & Male   & 2174 & 0 & 40 & North.America       & <=50K\\\\\n",
       "\t2 & 50 & self-emp &  83311 & Bachelors   & 13 & Married       & Exec-managerial & Husband       & White & Male   &    0 & 0 & 13 & North.America       & <=50K\\\\\n",
       "\t3 & 38 & Private  & 215646 & HS-grad     &  9 & Not-Married   & maintain-serv   & Not-in-family & White & Male   &    0 & 0 & 40 & North.America       & <=50K\\\\\n",
       "\t4 & 53 & Private  & 234721 & Not-HS-Grad &  7 & Married       & maintain-serv   & Husband       & Black & Male   &    0 & 0 & 40 & North.America       & <=50K\\\\\n",
       "\t5 & 28 & Private  & 338409 & Bachelors   & 13 & Married       & Prof-specialty  & Wife          & Black & Female &    0 & 0 & 40 & Latin.South.America & <=50K\\\\\n",
       "\t6 & 37 & Private  & 284582 & Masters     & 14 & Married       & Exec-managerial & Wife          & White & Female &    0 & 0 & 40 & North.America       & <=50K\\\\\n",
       "\\end{tabular}\n"
      ],
      "text/markdown": [
       "\n",
       "A data.frame: 6 × 15\n",
       "\n",
       "| <!--/--> | age &lt;int&gt; | type_employer &lt;fct&gt; | fnlwgt &lt;int&gt; | education &lt;fct&gt; | education_num &lt;int&gt; | marital &lt;fct&gt; | occupation &lt;fct&gt; | relationship &lt;fct&gt; | race &lt;fct&gt; | sex &lt;fct&gt; | capital_gain &lt;int&gt; | capital_loss &lt;int&gt; | hr_per_week &lt;int&gt; | country &lt;fct&gt; | income &lt;fct&gt; |\n",
       "|---|---|---|---|---|---|---|---|---|---|---|---|---|---|---|---|\n",
       "| 1 | 39 | SL-gov   |  77516 | Bachelors   | 13 | Never-married | Adm-clerical    | Not-in-family | White | Male   | 2174 | 0 | 40 | North.America       | &lt;=50K |\n",
       "| 2 | 50 | self-emp |  83311 | Bachelors   | 13 | Married       | Exec-managerial | Husband       | White | Male   |    0 | 0 | 13 | North.America       | &lt;=50K |\n",
       "| 3 | 38 | Private  | 215646 | HS-grad     |  9 | Not-Married   | maintain-serv   | Not-in-family | White | Male   |    0 | 0 | 40 | North.America       | &lt;=50K |\n",
       "| 4 | 53 | Private  | 234721 | Not-HS-Grad |  7 | Married       | maintain-serv   | Husband       | Black | Male   |    0 | 0 | 40 | North.America       | &lt;=50K |\n",
       "| 5 | 28 | Private  | 338409 | Bachelors   | 13 | Married       | Prof-specialty  | Wife          | Black | Female |    0 | 0 | 40 | Latin.South.America | &lt;=50K |\n",
       "| 6 | 37 | Private  | 284582 | Masters     | 14 | Married       | Exec-managerial | Wife          | White | Female |    0 | 0 | 40 | North.America       | &lt;=50K |\n",
       "\n"
      ],
      "text/plain": [
       "  age type_employer fnlwgt education   education_num marital      \n",
       "1 39  SL-gov         77516 Bachelors   13            Never-married\n",
       "2 50  self-emp       83311 Bachelors   13            Married      \n",
       "3 38  Private       215646 HS-grad      9            Not-Married  \n",
       "4 53  Private       234721 Not-HS-Grad  7            Married      \n",
       "5 28  Private       338409 Bachelors   13            Married      \n",
       "6 37  Private       284582 Masters     14            Married      \n",
       "  occupation      relationship  race  sex    capital_gain capital_loss\n",
       "1 Adm-clerical    Not-in-family White Male   2174         0           \n",
       "2 Exec-managerial Husband       White Male      0         0           \n",
       "3 maintain-serv   Not-in-family White Male      0         0           \n",
       "4 maintain-serv   Husband       Black Male      0         0           \n",
       "5 Prof-specialty  Wife          Black Female    0         0           \n",
       "6 Exec-managerial Wife          White Female    0         0           \n",
       "  hr_per_week country             income\n",
       "1 40          North.America       <=50K \n",
       "2 13          North.America       <=50K \n",
       "3 40          North.America       <=50K \n",
       "4 40          North.America       <=50K \n",
       "5 40          Latin.South.America <=50K \n",
       "6 40          North.America       <=50K "
      ]
     },
     "metadata": {},
     "output_type": "display_data"
    }
   ],
   "source": [
    "head(adult)"
   ]
  },
  {
   "cell_type": "markdown",
   "metadata": {},
   "source": [
    "#### Renaming country column"
   ]
  },
  {
   "cell_type": "code",
   "execution_count": 29,
   "metadata": {},
   "outputs": [
    {
     "data": {
      "text/html": [
       "<table>\n",
       "<caption>A data.frame: 6 × 15</caption>\n",
       "<thead>\n",
       "\t<tr><th></th><th scope=col>age</th><th scope=col>type_employer</th><th scope=col>fnlwgt</th><th scope=col>education</th><th scope=col>education_num</th><th scope=col>marital</th><th scope=col>occupation</th><th scope=col>relationship</th><th scope=col>race</th><th scope=col>sex</th><th scope=col>capital_gain</th><th scope=col>capital_loss</th><th scope=col>hr_per_week</th><th scope=col>region</th><th scope=col>income</th></tr>\n",
       "\t<tr><th></th><th scope=col>&lt;int&gt;</th><th scope=col>&lt;fct&gt;</th><th scope=col>&lt;int&gt;</th><th scope=col>&lt;fct&gt;</th><th scope=col>&lt;int&gt;</th><th scope=col>&lt;fct&gt;</th><th scope=col>&lt;fct&gt;</th><th scope=col>&lt;fct&gt;</th><th scope=col>&lt;fct&gt;</th><th scope=col>&lt;fct&gt;</th><th scope=col>&lt;int&gt;</th><th scope=col>&lt;int&gt;</th><th scope=col>&lt;int&gt;</th><th scope=col>&lt;fct&gt;</th><th scope=col>&lt;fct&gt;</th></tr>\n",
       "</thead>\n",
       "<tbody>\n",
       "\t<tr><th scope=row>1</th><td>39</td><td><span style=white-space:pre-wrap>SL-gov  </span></td><td> 77516</td><td><span style=white-space:pre-wrap>Bachelors  </span></td><td>13</td><td>Never-married</td><td><span style=white-space:pre-wrap>Adm-clerical   </span></td><td>Not-in-family</td><td>White</td><td><span style=white-space:pre-wrap>Male  </span></td><td>2174</td><td>0</td><td>40</td><td><span style=white-space:pre-wrap>North.America      </span></td><td>&lt;=50K</td></tr>\n",
       "\t<tr><th scope=row>2</th><td>50</td><td>self-emp</td><td> 83311</td><td><span style=white-space:pre-wrap>Bachelors  </span></td><td>13</td><td><span style=white-space:pre-wrap>Married      </span></td><td>Exec-managerial</td><td><span style=white-space:pre-wrap>Husband      </span></td><td>White</td><td><span style=white-space:pre-wrap>Male  </span></td><td><span style=white-space:pre-wrap>   0</span></td><td>0</td><td>13</td><td><span style=white-space:pre-wrap>North.America      </span></td><td>&lt;=50K</td></tr>\n",
       "\t<tr><th scope=row>3</th><td>38</td><td>Private </td><td>215646</td><td><span style=white-space:pre-wrap>HS-grad    </span></td><td> 9</td><td><span style=white-space:pre-wrap>Not-Married  </span></td><td><span style=white-space:pre-wrap>maintain-serv  </span></td><td>Not-in-family</td><td>White</td><td><span style=white-space:pre-wrap>Male  </span></td><td><span style=white-space:pre-wrap>   0</span></td><td>0</td><td>40</td><td><span style=white-space:pre-wrap>North.America      </span></td><td>&lt;=50K</td></tr>\n",
       "\t<tr><th scope=row>4</th><td>53</td><td>Private </td><td>234721</td><td>Not-HS-Grad</td><td> 7</td><td><span style=white-space:pre-wrap>Married      </span></td><td><span style=white-space:pre-wrap>maintain-serv  </span></td><td><span style=white-space:pre-wrap>Husband      </span></td><td>Black</td><td><span style=white-space:pre-wrap>Male  </span></td><td><span style=white-space:pre-wrap>   0</span></td><td>0</td><td>40</td><td><span style=white-space:pre-wrap>North.America      </span></td><td>&lt;=50K</td></tr>\n",
       "\t<tr><th scope=row>5</th><td>28</td><td>Private </td><td>338409</td><td><span style=white-space:pre-wrap>Bachelors  </span></td><td>13</td><td><span style=white-space:pre-wrap>Married      </span></td><td>Prof-specialty </td><td><span style=white-space:pre-wrap>Wife         </span></td><td>Black</td><td>Female</td><td><span style=white-space:pre-wrap>   0</span></td><td>0</td><td>40</td><td>Latin.South.America</td><td>&lt;=50K</td></tr>\n",
       "\t<tr><th scope=row>6</th><td>37</td><td>Private </td><td>284582</td><td><span style=white-space:pre-wrap>Masters    </span></td><td>14</td><td><span style=white-space:pre-wrap>Married      </span></td><td>Exec-managerial</td><td><span style=white-space:pre-wrap>Wife         </span></td><td>White</td><td>Female</td><td><span style=white-space:pre-wrap>   0</span></td><td>0</td><td>40</td><td><span style=white-space:pre-wrap>North.America      </span></td><td>&lt;=50K</td></tr>\n",
       "</tbody>\n",
       "</table>\n"
      ],
      "text/latex": [
       "A data.frame: 6 × 15\n",
       "\\begin{tabular}{r|lllllllllllllll}\n",
       "  & age & type\\_employer & fnlwgt & education & education\\_num & marital & occupation & relationship & race & sex & capital\\_gain & capital\\_loss & hr\\_per\\_week & region & income\\\\\n",
       "  & <int> & <fct> & <int> & <fct> & <int> & <fct> & <fct> & <fct> & <fct> & <fct> & <int> & <int> & <int> & <fct> & <fct>\\\\\n",
       "\\hline\n",
       "\t1 & 39 & SL-gov   &  77516 & Bachelors   & 13 & Never-married & Adm-clerical    & Not-in-family & White & Male   & 2174 & 0 & 40 & North.America       & <=50K\\\\\n",
       "\t2 & 50 & self-emp &  83311 & Bachelors   & 13 & Married       & Exec-managerial & Husband       & White & Male   &    0 & 0 & 13 & North.America       & <=50K\\\\\n",
       "\t3 & 38 & Private  & 215646 & HS-grad     &  9 & Not-Married   & maintain-serv   & Not-in-family & White & Male   &    0 & 0 & 40 & North.America       & <=50K\\\\\n",
       "\t4 & 53 & Private  & 234721 & Not-HS-Grad &  7 & Married       & maintain-serv   & Husband       & Black & Male   &    0 & 0 & 40 & North.America       & <=50K\\\\\n",
       "\t5 & 28 & Private  & 338409 & Bachelors   & 13 & Married       & Prof-specialty  & Wife          & Black & Female &    0 & 0 & 40 & Latin.South.America & <=50K\\\\\n",
       "\t6 & 37 & Private  & 284582 & Masters     & 14 & Married       & Exec-managerial & Wife          & White & Female &    0 & 0 & 40 & North.America       & <=50K\\\\\n",
       "\\end{tabular}\n"
      ],
      "text/markdown": [
       "\n",
       "A data.frame: 6 × 15\n",
       "\n",
       "| <!--/--> | age &lt;int&gt; | type_employer &lt;fct&gt; | fnlwgt &lt;int&gt; | education &lt;fct&gt; | education_num &lt;int&gt; | marital &lt;fct&gt; | occupation &lt;fct&gt; | relationship &lt;fct&gt; | race &lt;fct&gt; | sex &lt;fct&gt; | capital_gain &lt;int&gt; | capital_loss &lt;int&gt; | hr_per_week &lt;int&gt; | region &lt;fct&gt; | income &lt;fct&gt; |\n",
       "|---|---|---|---|---|---|---|---|---|---|---|---|---|---|---|---|\n",
       "| 1 | 39 | SL-gov   |  77516 | Bachelors   | 13 | Never-married | Adm-clerical    | Not-in-family | White | Male   | 2174 | 0 | 40 | North.America       | &lt;=50K |\n",
       "| 2 | 50 | self-emp |  83311 | Bachelors   | 13 | Married       | Exec-managerial | Husband       | White | Male   |    0 | 0 | 13 | North.America       | &lt;=50K |\n",
       "| 3 | 38 | Private  | 215646 | HS-grad     |  9 | Not-Married   | maintain-serv   | Not-in-family | White | Male   |    0 | 0 | 40 | North.America       | &lt;=50K |\n",
       "| 4 | 53 | Private  | 234721 | Not-HS-Grad |  7 | Married       | maintain-serv   | Husband       | Black | Male   |    0 | 0 | 40 | North.America       | &lt;=50K |\n",
       "| 5 | 28 | Private  | 338409 | Bachelors   | 13 | Married       | Prof-specialty  | Wife          | Black | Female |    0 | 0 | 40 | Latin.South.America | &lt;=50K |\n",
       "| 6 | 37 | Private  | 284582 | Masters     | 14 | Married       | Exec-managerial | Wife          | White | Female |    0 | 0 | 40 | North.America       | &lt;=50K |\n",
       "\n"
      ],
      "text/plain": [
       "  age type_employer fnlwgt education   education_num marital      \n",
       "1 39  SL-gov         77516 Bachelors   13            Never-married\n",
       "2 50  self-emp       83311 Bachelors   13            Married      \n",
       "3 38  Private       215646 HS-grad      9            Not-Married  \n",
       "4 53  Private       234721 Not-HS-Grad  7            Married      \n",
       "5 28  Private       338409 Bachelors   13            Married      \n",
       "6 37  Private       284582 Masters     14            Married      \n",
       "  occupation      relationship  race  sex    capital_gain capital_loss\n",
       "1 Adm-clerical    Not-in-family White Male   2174         0           \n",
       "2 Exec-managerial Husband       White Male      0         0           \n",
       "3 maintain-serv   Not-in-family White Male      0         0           \n",
       "4 maintain-serv   Husband       Black Male      0         0           \n",
       "5 Prof-specialty  Wife          Black Female    0         0           \n",
       "6 Exec-managerial Wife          White Female    0         0           \n",
       "  hr_per_week region              income\n",
       "1 40          North.America       <=50K \n",
       "2 13          North.America       <=50K \n",
       "3 40          North.America       <=50K \n",
       "4 40          North.America       <=50K \n",
       "5 40          Latin.South.America <=50K \n",
       "6 40          North.America       <=50K "
      ]
     },
     "metadata": {},
     "output_type": "display_data"
    }
   ],
   "source": [
    "adult <- rename(adult, region = country)\n",
    "head(adult)"
   ]
  },
  {
   "cell_type": "code",
   "execution_count": 30,
   "metadata": {},
   "outputs": [
    {
     "data": {
      "image/png": "[encoded data removed]",
      "text/plain": [
       "plot without title"
      ]
     },
     "metadata": {
      "image/png": {
       "height": 420,
       "width": 420
      }
     },
     "output_type": "display_data"
    }
   ],
   "source": [
    "pl1 <- ggplot(adult, aes(region)) + geom_bar(aes(fill=income), color='black') + theme_bw()\n",
    "pl2 <- pl1 + theme(axis.text.x = element_text(angle = 90, hjust = 1))\n",
    "pl2"
   ]
  },
  {
   "cell_type": "markdown",
   "metadata": {},
   "source": [
    "### Model building"
   ]
  },
  {
   "cell_type": "code",
   "execution_count": 31,
   "metadata": {},
   "outputs": [
    {
     "name": "stdout",
     "output_type": "stream",
     "text": [
      "'data.frame':\t30718 obs. of  15 variables:\n",
      " $ age          : int  39 50 38 53 28 37 49 52 31 42 ...\n",
      " $ type_employer: Factor w/ 5 levels \"Federal-gov\",..: 4 3 2 2 2 2 2 3 2 2 ...\n",
      " $ fnlwgt       : int  77516 83311 215646 234721 338409 284582 160187 209642 45781 159449 ...\n",
      " $ education    : Factor w/ 6 levels \"Bachelors\",\"Doctorate\",..: 1 1 3 5 1 4 5 3 4 1 ...\n",
      " $ education_num: int  13 13 9 7 13 14 5 9 14 13 ...\n",
      " $ marital      : Factor w/ 3 levels \"Married\",\"Never-married\",..: 2 1 3 1 1 1 1 1 2 1 ...\n",
      " $ occupation   : Factor w/ 11 levels \"Adm-clerical\",..: 1 2 4 4 7 2 5 2 7 2 ...\n",
      " $ relationship : Factor w/ 6 levels \"Husband\",\"Not-in-family\",..: 2 1 2 1 6 6 2 1 2 1 ...\n",
      " $ race         : Factor w/ 5 levels \"Amer-Indian-Eskimo\",..: 5 5 5 3 3 5 3 5 5 5 ...\n",
      " $ sex          : Factor w/ 2 levels \"Female\",\"Male\": 2 2 2 2 1 1 1 2 1 2 ...\n",
      " $ capital_gain : int  2174 0 0 0 0 0 0 0 14084 5178 ...\n",
      " $ capital_loss : int  0 0 0 0 0 0 0 0 0 0 ...\n",
      " $ hr_per_week  : int  40 13 40 40 40 40 16 45 50 40 ...\n",
      " $ region       : Factor w/ 5 levels \"Asia\",\"Europe\",..: 4 4 4 4 3 4 3 4 4 4 ...\n",
      " $ income       : Factor w/ 2 levels \"<=50K\",\">50K\": 1 1 1 1 1 1 1 2 2 2 ...\n",
      " - attr(*, \"na.action\")= 'omit' Named int [1:1843] 28 62 70 78 107 129 150 155 161 188 ...\n",
      "  ..- attr(*, \"names\")= chr [1:1843] \"28\" \"62\" \"70\" \"78\" ...\n"
     ]
    }
   ],
   "source": [
    "str(adult)"
   ]
  },
  {
   "cell_type": "markdown",
   "metadata": {},
   "source": [
    "#### Train test split"
   ]
  },
  {
   "cell_type": "code",
   "execution_count": 32,
   "metadata": {},
   "outputs": [],
   "source": [
    "library(caTools)"
   ]
  },
  {
   "cell_type": "code",
   "execution_count": 33,
   "metadata": {},
   "outputs": [],
   "source": [
    "set.seed(101)\n",
    "\n",
    "sample <- sample.split(adult$income,SplitRatio=0.7)\n",
    "\n",
    "train <- subset(adult, sample==T)\n",
    "test <- subset(adult, sample==F)"
   ]
  },
  {
   "cell_type": "code",
   "execution_count": 34,
   "metadata": {},
   "outputs": [
    {
     "name": "stderr",
     "output_type": "stream",
     "text": [
      "Warning message:\n",
      "\"glm.fit: fitted probabilities numerically 0 or 1 occurred\"\n"
     ]
    }
   ],
   "source": [
    "model <- glm(income ~., family=binomial(link ='logit'), data=train)"
   ]
  },
  {
   "cell_type": "code",
   "execution_count": 35,
   "metadata": {},
   "outputs": [
    {
     "data": {
      "text/plain": [
       "\n",
       "Call:\n",
       "glm(formula = income ~ ., family = binomial(link = \"logit\"), \n",
       "    data = train)\n",
       "\n",
       "Deviance Residuals: \n",
       "    Min       1Q   Median       3Q      Max  \n",
       "-5.0617  -0.5255  -0.2000  -0.0080   3.6211  \n",
       "\n",
       "Coefficients:\n",
       "                             Estimate Std. Error z value Pr(>|z|)    \n",
       "(Intercept)                -6.691e+00  5.168e-01 -12.946  < 2e-16 ***\n",
       "age                         2.615e-02  1.994e-03  13.112  < 2e-16 ***\n",
       "type_employerPrivate       -4.352e-01  1.121e-01  -3.882 0.000103 ***\n",
       "type_employerself-emp      -6.304e-01  1.239e-01  -5.088 3.62e-07 ***\n",
       "type_employerSL-gov        -6.734e-01  1.261e-01  -5.341 9.22e-08 ***\n",
       "type_employerUnemployed    -1.219e+01  1.348e+02  -0.090 0.927957    \n",
       "fnlwgt                      5.352e-07  2.078e-07   2.576 0.009995 ** \n",
       "educationDoctorate          1.043e-01  1.982e-01   0.526 0.598765    \n",
       "educationHS-grad           -1.939e-01  1.191e-01  -1.628 0.103468    \n",
       "educationMasters            8.767e-02  9.481e-02   0.925 0.355146    \n",
       "educationNot-HS-Grad       -2.838e-01  2.128e-01  -1.334 0.182365    \n",
       "educationPost-HS-Grad      -9.197e-02  8.264e-02  -1.113 0.265755    \n",
       "education_num               2.423e-01  2.645e-02   9.162  < 2e-16 ***\n",
       "maritalNever-married       -1.236e+00  1.953e-01  -6.332 2.42e-10 ***\n",
       "maritalNot-Married         -7.036e-01  1.954e-01  -3.601 0.000317 ***\n",
       "occupationExec-managerial   7.628e-01  9.079e-02   8.401  < 2e-16 ***\n",
       "occupationFarming-fishing  -1.160e+00  1.624e-01  -7.140 9.31e-13 ***\n",
       "occupationmaintain-serv    -9.785e-02  8.963e-02  -1.092 0.274972    \n",
       "occupationOther-service    -8.136e-01  1.386e-01  -5.871 4.34e-09 ***\n",
       "occupationPriv-house-serv  -3.492e+00  1.881e+00  -1.856 0.063450 .  \n",
       "occupationProf-specialty    5.361e-01  9.520e-02   5.631 1.79e-08 ***\n",
       "occupationprotect-serv      5.844e-01  1.487e-01   3.929 8.52e-05 ***\n",
       "occupationSales             2.762e-01  9.744e-02   2.834 0.004594 ** \n",
       "occupationTech-support      6.679e-01  1.322e-01   5.051 4.40e-07 ***\n",
       "occupationTransport-moving -1.086e-01  1.188e-01  -0.914 0.360816    \n",
       "relationshipNot-in-family  -9.009e-01  1.918e-01  -4.698 2.63e-06 ***\n",
       "relationshipOther-relative -1.163e+00  2.576e-01  -4.514 6.35e-06 ***\n",
       "relationshipOwn-child      -1.838e+00  2.365e-01  -7.770 7.85e-15 ***\n",
       "relationshipUnmarried      -1.075e+00  2.159e-01  -4.978 6.42e-07 ***\n",
       "relationshipWife            1.453e+00  1.231e-01  11.802  < 2e-16 ***\n",
       "raceAsian-Pac-Islander      6.291e-01  3.196e-01   1.968 0.049016 *  \n",
       "raceBlack                   4.405e-01  2.838e-01   1.552 0.120643    \n",
       "raceOther                   4.817e-02  4.207e-01   0.114 0.908846    \n",
       "raceWhite                   6.709e-01  2.704e-01   2.481 0.013084 *  \n",
       "sexMale                     8.876e-01  9.345e-02   9.498  < 2e-16 ***\n",
       "capital_gain                3.126e-04  1.249e-05  25.035  < 2e-16 ***\n",
       "capital_loss                6.594e-04  4.558e-05  14.467  < 2e-16 ***\n",
       "hr_per_week                 2.958e-02  1.981e-03  14.927  < 2e-16 ***\n",
       "regionEurope                9.480e-02  2.541e-01   0.373 0.709047    \n",
       "regionLatin.South.America  -5.420e-01  2.550e-01  -2.125 0.033555 *  \n",
       "regionNorth.America         5.912e-02  2.035e-01   0.290 0.771472    \n",
       "regionOther                -3.651e-01  2.342e-01  -1.559 0.119107    \n",
       "---\n",
       "Signif. codes:  0 '***' 0.001 '**' 0.01 '*' 0.05 '.' 0.1 ' ' 1\n",
       "\n",
       "(Dispersion parameter for binomial family taken to be 1)\n",
       "\n",
       "    Null deviance: 24138  on 21502  degrees of freedom\n",
       "Residual deviance: 14076  on 21461  degrees of freedom\n",
       "AIC: 14160\n",
       "\n",
       "Number of Fisher Scoring iterations: 12\n"
      ]
     },
     "metadata": {},
     "output_type": "display_data"
    }
   ],
   "source": [
    "summary(model)"
   ]
  },
  {
   "cell_type": "code",
   "execution_count": 36,
   "metadata": {},
   "outputs": [
    {
     "name": "stdout",
     "output_type": "stream",
     "text": [
      "Start:  AIC=14159.56\n",
      "income ~ age + type_employer + fnlwgt + education + education_num + \n",
      "    marital + occupation + relationship + race + sex + capital_gain + \n",
      "    capital_loss + hr_per_week + region\n",
      "\n"
     ]
    },
    {
     "name": "stderr",
     "output_type": "stream",
     "text": [
      "Warning message:\n",
      "\"glm.fit: fitted probabilities numerically 0 or 1 occurred\"\n",
      "Warning message:\n",
      "\"glm.fit: fitted probabilities numerically 0 or 1 occurred\"\n",
      "Warning message:\n",
      "\"glm.fit: fitted probabilities numerically 0 or 1 occurred\"\n",
      "Warning message:\n",
      "\"glm.fit: fitted probabilities numerically 0 or 1 occurred\"\n",
      "Warning message:\n",
      "\"glm.fit: fitted probabilities numerically 0 or 1 occurred\"\n",
      "Warning message:\n",
      "\"glm.fit: fitted probabilities numerically 0 or 1 occurred\"\n",
      "Warning message:\n",
      "\"glm.fit: fitted probabilities numerically 0 or 1 occurred\"\n",
      "Warning message:\n",
      "\"glm.fit: fitted probabilities numerically 0 or 1 occurred\"\n",
      "Warning message:\n",
      "\"glm.fit: fitted probabilities numerically 0 or 1 occurred\"\n",
      "Warning message:\n",
      "\"glm.fit: fitted probabilities numerically 0 or 1 occurred\"\n",
      "Warning message:\n",
      "\"glm.fit: fitted probabilities numerically 0 or 1 occurred\"\n",
      "Warning message:\n",
      "\"glm.fit: fitted probabilities numerically 0 or 1 occurred\"\n",
      "Warning message:\n",
      "\"glm.fit: fitted probabilities numerically 0 or 1 occurred\"\n"
     ]
    },
    {
     "name": "stdout",
     "output_type": "stream",
     "text": [
      "                Df Deviance   AIC\n",
      "- education      5    14079 14153\n",
      "<none>                14076 14160\n",
      "- fnlwgt         1    14082 14164\n",
      "- race           4    14092 14168\n",
      "- region         4    14098 14174\n",
      "- type_employer  4    14118 14194\n",
      "- marital        2    14129 14209\n",
      "- education_num  1    14162 14244\n",
      "- sex            1    14169 14251\n",
      "- age            1    14249 14331\n",
      "- capital_loss   1    14292 14374\n",
      "- hr_per_week    1    14304 14386\n",
      "- relationship   5    14360 14434\n",
      "- occupation    10    14488 14552\n",
      "- capital_gain   1    15322 15404\n"
     ]
    },
    {
     "name": "stderr",
     "output_type": "stream",
     "text": [
      "Warning message:\n",
      "\"glm.fit: fitted probabilities numerically 0 or 1 occurred\"\n"
     ]
    },
    {
     "name": "stdout",
     "output_type": "stream",
     "text": [
      "\n",
      "Step:  AIC=14152.98\n",
      "income ~ age + type_employer + fnlwgt + education_num + marital + \n",
      "    occupation + relationship + race + sex + capital_gain + capital_loss + \n",
      "    hr_per_week + region\n",
      "\n"
     ]
    },
    {
     "name": "stderr",
     "output_type": "stream",
     "text": [
      "Warning message:\n",
      "\"glm.fit: fitted probabilities numerically 0 or 1 occurred\"\n",
      "Warning message:\n",
      "\"glm.fit: fitted probabilities numerically 0 or 1 occurred\"\n",
      "Warning message:\n",
      "\"glm.fit: fitted probabilities numerically 0 or 1 occurred\"\n",
      "Warning message:\n",
      "\"glm.fit: fitted probabilities numerically 0 or 1 occurred\"\n",
      "Warning message:\n",
      "\"glm.fit: fitted probabilities numerically 0 or 1 occurred\"\n",
      "Warning message:\n",
      "\"glm.fit: fitted probabilities numerically 0 or 1 occurred\"\n",
      "Warning message:\n",
      "\"glm.fit: fitted probabilities numerically 0 or 1 occurred\"\n",
      "Warning message:\n",
      "\"glm.fit: fitted probabilities numerically 0 or 1 occurred\"\n",
      "Warning message:\n",
      "\"glm.fit: fitted probabilities numerically 0 or 1 occurred\"\n",
      "Warning message:\n",
      "\"glm.fit: fitted probabilities numerically 0 or 1 occurred\"\n",
      "Warning message:\n",
      "\"glm.fit: fitted probabilities numerically 0 or 1 occurred\"\n",
      "Warning message:\n",
      "\"glm.fit: fitted probabilities numerically 0 or 1 occurred\"\n"
     ]
    },
    {
     "name": "stdout",
     "output_type": "stream",
     "text": [
      "                Df Deviance   AIC\n",
      "<none>                14079 14153\n",
      "- fnlwgt         1    14086 14158\n",
      "- race           4    14096 14162\n",
      "- region         4    14101 14167\n",
      "- type_employer  4    14121 14187\n",
      "- marital        2    14132 14202\n",
      "- sex            1    14172 14244\n",
      "- age            1    14256 14328\n",
      "- capital_loss   1    14295 14367\n",
      "- hr_per_week    1    14307 14379\n",
      "- relationship   5    14363 14427\n",
      "- occupation    10    14500 14554\n",
      "- education_num  1    14763 14835\n",
      "- capital_gain   1    15324 15396\n"
     ]
    }
   ],
   "source": [
    "new.step.model <- step(model)"
   ]
  },
  {
   "cell_type": "code",
   "execution_count": 37,
   "metadata": {},
   "outputs": [
    {
     "data": {
      "text/plain": [
       "\n",
       "Call:\n",
       "glm(formula = income ~ age + type_employer + fnlwgt + education_num + \n",
       "    marital + occupation + relationship + race + sex + capital_gain + \n",
       "    capital_loss + hr_per_week + region, family = binomial(link = \"logit\"), \n",
       "    data = train)\n",
       "\n",
       "Deviance Residuals: \n",
       "    Min       1Q   Median       3Q      Max  \n",
       "-5.0509  -0.5249  -0.2003  -0.0080   3.6526  \n",
       "\n",
       "Coefficients:\n",
       "                             Estimate Std. Error z value Pr(>|z|)    \n",
       "(Intercept)                -7.207e+00  4.093e-01 -17.608  < 2e-16 ***\n",
       "age                         2.620e-02  1.978e-03  13.241  < 2e-16 ***\n",
       "type_employerPrivate       -4.381e-01  1.120e-01  -3.913 9.13e-05 ***\n",
       "type_employerself-emp      -6.402e-01  1.237e-01  -5.174 2.29e-07 ***\n",
       "type_employerSL-gov        -6.680e-01  1.257e-01  -5.315 1.07e-07 ***\n",
       "type_employerUnemployed    -1.220e+01  1.342e+02  -0.091  0.92761    \n",
       "fnlwgt                      5.347e-07  2.077e-07   2.575  0.01003 *  \n",
       "education_num               2.817e-01  1.134e-02  24.852  < 2e-16 ***\n",
       "maritalNever-married       -1.240e+00  1.950e-01  -6.360 2.02e-10 ***\n",
       "maritalNot-Married         -7.085e-01  1.950e-01  -3.633  0.00028 ***\n",
       "occupationExec-managerial   7.724e-01  9.038e-02   8.546  < 2e-16 ***\n",
       "occupationFarming-fishing  -1.153e+00  1.622e-01  -7.104 1.21e-12 ***\n",
       "occupationmaintain-serv    -1.010e-01  8.940e-02  -1.130  0.25851    \n",
       "occupationOther-service    -8.142e-01  1.385e-01  -5.880 4.11e-09 ***\n",
       "occupationPriv-house-serv  -3.498e+00  1.873e+00  -1.868  0.06183 .  \n",
       "occupationProf-specialty    5.363e-01  9.398e-02   5.706 1.16e-08 ***\n",
       "occupationprotect-serv      5.836e-01  1.486e-01   3.927 8.58e-05 ***\n",
       "occupationSales             2.827e-01  9.723e-02   2.908  0.00364 ** \n",
       "occupationTech-support      6.719e-01  1.321e-01   5.087 3.63e-07 ***\n",
       "occupationTransport-moving -1.144e-01  1.185e-01  -0.966  0.33404    \n",
       "relationshipNot-in-family  -8.961e-01  1.914e-01  -4.683 2.83e-06 ***\n",
       "relationshipOther-relative -1.165e+00  2.575e-01  -4.524 6.07e-06 ***\n",
       "relationshipOwn-child      -1.833e+00  2.361e-01  -7.760 8.46e-15 ***\n",
       "relationshipUnmarried      -1.069e+00  2.155e-01  -4.960 7.05e-07 ***\n",
       "relationshipWife            1.450e+00  1.230e-01  11.789  < 2e-16 ***\n",
       "raceAsian-Pac-Islander      6.262e-01  3.193e-01   1.961  0.04984 *  \n",
       "raceBlack                   4.370e-01  2.836e-01   1.541  0.12328    \n",
       "raceOther                   4.702e-02  4.208e-01   0.112  0.91102    \n",
       "raceWhite                   6.671e-01  2.701e-01   2.470  0.01352 *  \n",
       "sexMale                     8.849e-01  9.335e-02   9.479  < 2e-16 ***\n",
       "capital_gain                3.127e-04  1.248e-05  25.045  < 2e-16 ***\n",
       "capital_loss                6.591e-04  4.560e-05  14.454  < 2e-16 ***\n",
       "hr_per_week                 2.955e-02  1.979e-03  14.933  < 2e-16 ***\n",
       "regionEurope                9.985e-02  2.540e-01   0.393  0.69421    \n",
       "regionLatin.South.America  -5.321e-01  2.550e-01  -2.087  0.03692 *  \n",
       "regionNorth.America         6.088e-02  2.033e-01   0.299  0.76456    \n",
       "regionOther                -3.543e-01  2.341e-01  -1.514  0.13015    \n",
       "---\n",
       "Signif. codes:  0 '***' 0.001 '**' 0.01 '*' 0.05 '.' 0.1 ' ' 1\n",
       "\n",
       "(Dispersion parameter for binomial family taken to be 1)\n",
       "\n",
       "    Null deviance: 24138  on 21502  degrees of freedom\n",
       "Residual deviance: 14079  on 21466  degrees of freedom\n",
       "AIC: 14153\n",
       "\n",
       "Number of Fisher Scoring iterations: 12\n"
      ]
     },
     "metadata": {},
     "output_type": "display_data"
    }
   ],
   "source": [
    "summary(new.step.model)"
   ]
  },
  {
   "cell_type": "code",
   "execution_count": 38,
   "metadata": {},
   "outputs": [],
   "source": [
    "test$predicted.income <- predict(model, newdata = test, type='response')"
   ]
  },
  {
   "cell_type": "markdown",
   "metadata": {},
   "source": [
    "#### Confusion Matrix"
   ]
  },
  {
   "cell_type": "code",
   "execution_count": 39,
   "metadata": {},
   "outputs": [
    {
     "data": {
      "text/plain": [
       "       \n",
       "        FALSE TRUE\n",
       "  <=50K  6371  549\n",
       "  >50K    870 1425"
      ]
     },
     "metadata": {},
     "output_type": "display_data"
    }
   ],
   "source": [
    "table(test$income, test$predicted.income > 0.5)"
   ]
  },
  {
   "cell_type": "markdown",
   "metadata": {},
   "source": [
    "#### Accuracy"
   ]
  },
  {
   "cell_type": "code",
   "execution_count": 40,
   "metadata": {},
   "outputs": [
    {
     "data": {
      "text/html": [
       "0.846011937059143"
      ],
      "text/latex": [
       "0.846011937059143"
      ],
      "text/markdown": [
       "0.846011937059143"
      ],
      "text/plain": [
       "[1] 0.8460119"
      ]
     },
     "metadata": {},
     "output_type": "display_data"
    }
   ],
   "source": [
    "acc <- (6371+1425)/(6371+1425+870+549)\n",
    "acc"
   ]
  },
  {
   "cell_type": "markdown",
   "metadata": {},
   "source": [
    "#### Recall"
   ]
  },
  {
   "cell_type": "code",
   "execution_count": 41,
   "metadata": {},
   "outputs": [
    {
     "data": {
      "text/html": [
       "0.920664739884393"
      ],
      "text/latex": [
       "0.920664739884393"
      ],
      "text/markdown": [
       "0.920664739884393"
      ],
      "text/plain": [
       "[1] 0.9206647"
      ]
     },
     "metadata": {},
     "output_type": "display_data"
    }
   ],
   "source": [
    "6371/(6371+549)"
   ]
  },
  {
   "cell_type": "markdown",
   "metadata": {},
   "source": [
    "#### Precision"
   ]
  },
  {
   "cell_type": "code",
   "execution_count": 42,
   "metadata": {},
   "outputs": [
    {
     "data": {
      "text/html": [
       "0.879850849330203"
      ],
      "text/latex": [
       "0.879850849330203"
      ],
      "text/markdown": [
       "0.879850849330203"
      ],
      "text/plain": [
       "[1] 0.8798508"
      ]
     },
     "metadata": {},
     "output_type": "display_data"
    }
   ],
   "source": [
    "6371/(6371+870)"
   ]
  },
  {
   "cell_type": "markdown",
   "metadata": {},
   "source": [
    "#### with step model"
   ]
  },
  {
   "cell_type": "code",
   "execution_count": 43,
   "metadata": {},
   "outputs": [],
   "source": [
    "test$predicted.income2 <- predict(new.step.model, newdata = test, type='response')"
   ]
  },
  {
   "cell_type": "code",
   "execution_count": 44,
   "metadata": {},
   "outputs": [
    {
     "data": {
      "text/plain": [
       "       \n",
       "        FALSE TRUE\n",
       "  <=50K  6375  545\n",
       "  >50K    872 1423"
      ]
     },
     "metadata": {},
     "output_type": "display_data"
    }
   ],
   "source": [
    "table(test$income, test$predicted.income2 > 0.5)"
   ]
  },
  {
   "cell_type": "markdown",
   "metadata": {},
   "source": [
    "## END!!!"
   ]
  },
  {
   "cell_type": "code",
   "execution_count": null,
   "metadata": {},
   "outputs": [],
   "source": []
  }
 ],
 "metadata": {
  "kernelspec": {
   "display_name": "R",
   "language": "R",
   "name": "ir"
  },
  "language_info": {
   "codemirror_mode": "r",
   "file_extension": ".r",
   "mimetype": "text/x-r-source",
   "name": "R",
   "pygments_lexer": "r",
   "version": "4.0.2"
  }
 },
 "nbformat": 4,
 "nbformat_minor": 4
}
